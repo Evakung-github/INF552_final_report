{
  "nbformat": 4,
  "nbformat_minor": 0,
  "metadata": {
    "colab": {
      "name": "cis_pd_hmmlearn.ipynb",
      "provenance": [],
      "machine_shape": "hm"
    },
    "kernelspec": {
      "name": "python3",
      "display_name": "Python 3"
    }
  },
  "cells": [
    {
      "cell_type": "code",
      "metadata": {
        "id": "RbizST3-u56j",
        "colab_type": "code",
        "outputId": "152d76bf-b71e-498f-edb9-f456e2d9e41e",
        "colab": {
          "base_uri": "https://localhost:8080/",
          "height": 34
        }
      },
      "source": [
        "cd '/content/drive/My Drive/PD/cis-pd'"
      ],
      "execution_count": 0,
      "outputs": [
        {
          "output_type": "stream",
          "text": [
            "/content/drive/My Drive/PD/cis-pd\n"
          ],
          "name": "stdout"
        }
      ]
    },
    {
      "cell_type": "code",
      "metadata": {
        "id": "A24r4QcMvBl0",
        "colab_type": "code",
        "outputId": "c398f3a6-6ee2-4246-e0bf-6b3787a99bde",
        "colab": {
          "base_uri": "https://localhost:8080/",
          "height": 170
        }
      },
      "source": [
        "!pip install hmmlearn\n",
        "from hmmlearn import hmm\n",
        "import numpy as np\n",
        "import os"
      ],
      "execution_count": 0,
      "outputs": [
        {
          "output_type": "stream",
          "text": [
            "Collecting hmmlearn\n",
            "\u001b[?25l  Downloading https://files.pythonhosted.org/packages/ff/7b/33f629a443a0671161c019e55c3f1b511c7e9fdce5ab8c8c3c33470eb939/hmmlearn-0.2.3-cp36-cp36m-manylinux1_x86_64.whl (363kB)\n",
            "\u001b[K     |████████████████████████████████| 368kB 2.7MB/s \n",
            "\u001b[?25hRequirement already satisfied: numpy>=1.10 in /usr/local/lib/python3.6/dist-packages (from hmmlearn) (1.18.3)\n",
            "Requirement already satisfied: scikit-learn>=0.16 in /usr/local/lib/python3.6/dist-packages (from hmmlearn) (0.22.2.post1)\n",
            "Requirement already satisfied: scipy>=0.15 in /usr/local/lib/python3.6/dist-packages (from hmmlearn) (1.4.1)\n",
            "Requirement already satisfied: joblib>=0.11 in /usr/local/lib/python3.6/dist-packages (from scikit-learn>=0.16->hmmlearn) (0.14.1)\n",
            "Installing collected packages: hmmlearn\n",
            "Successfully installed hmmlearn-0.2.3\n"
          ],
          "name": "stdout"
        }
      ]
    },
    {
      "cell_type": "code",
      "metadata": {
        "id": "5AQmH4UVvDaX",
        "colab_type": "code",
        "colab": {}
      },
      "source": [
        "directory = 'outputA_Total/'\n",
        "l = []\n",
        "length = []\n",
        "for filename in os.listdir(directory):\n",
        "    if filename.endswith(\".csv\"):\n",
        "      a = np.loadtxt(directory+filename)\n",
        "      l.append(a)\n",
        "      length.append(len(a))\n",
        "\n",
        "X = np.concatenate(l)"
      ],
      "execution_count": 0,
      "outputs": []
    },
    {
      "cell_type": "code",
      "metadata": {
        "id": "uRIKkpPevG7J",
        "colab_type": "code",
        "outputId": "f4673660-a077-4bc1-d954-75981bf48323",
        "colab": {
          "base_uri": "https://localhost:8080/",
          "height": 34
        }
      },
      "source": [
        "'''\n",
        "Check\n",
        "'''\n",
        "# directory = 'outputA_Total/'\n",
        "# k = np.loadtxt(directory+'1004.csv')\n",
        "# k.shape"
      ],
      "execution_count": 0,
      "outputs": [
        {
          "output_type": "execute_result",
          "data": {
            "text/plain": [
              "(616241, 3)"
            ]
          },
          "metadata": {
            "tags": []
          },
          "execution_count": 14
        }
      ]
    },
    {
      "cell_type": "code",
      "metadata": {
        "id": "fgr4DgULvlAZ",
        "colab_type": "code",
        "colab": {}
      },
      "source": [
        "import pickle\n",
        "with open(\"cis-pd-memo.pkl\", \"rb\") as file: \n",
        "  memo = pickle.load(file)"
      ],
      "execution_count": 0,
      "outputs": []
    },
    {
      "cell_type": "code",
      "metadata": {
        "id": "rAvVwQv9mseO",
        "colab_type": "code",
        "colab": {}
      },
      "source": [
        "import pickle"
      ],
      "execution_count": 0,
      "outputs": []
    },
    {
      "cell_type": "code",
      "metadata": {
        "id": "nqLdewH6wXJ_",
        "colab_type": "code",
        "colab": {}
      },
      "source": [
        "import pickle\n",
        "with open(\"model_Total_50.pkl\", \"rb\") as file: \n",
        "  m = pickle.load(file)"
      ],
      "execution_count": 0,
      "outputs": []
    },
    {
      "cell_type": "code",
      "metadata": {
        "id": "ZCgRueVP7Aui",
        "colab_type": "code",
        "outputId": "1e6a7140-24a2-4917-a4c6-24229af6fd7e",
        "colab": {
          "base_uri": "https://localhost:8080/",
          "height": 102
        }
      },
      "source": [
        "m"
      ],
      "execution_count": 0,
      "outputs": [
        {
          "output_type": "execute_result",
          "data": {
            "text/plain": [
              "GaussianHMM(algorithm='viterbi', covariance_type='full', covars_prior=0.01,\n",
              "            covars_weight=1, init_params='', means_prior=0, means_weight=0,\n",
              "            min_covar=0.001, n_components=50, n_iter=1, params='stmc',\n",
              "            random_state=None, startprob_prior=1.0, tol=0.01,\n",
              "            transmat_prior=1.0, verbose=True)"
            ]
          },
          "metadata": {
            "tags": []
          },
          "execution_count": 4
        }
      ]
    },
    {
      "cell_type": "code",
      "metadata": {
        "id": "wTqBvahjwIsF",
        "colab_type": "code",
        "outputId": "6c91f700-8014-4d92-9c42-98c671dd2fb4",
        "colab": {
          "base_uri": "https://localhost:8080/",
          "height": 51
        }
      },
      "source": [
        "while True:\n",
        "  m.fit(X,length)\n",
        "  with open(\"model_Total_50.pkl\", \"wb\") as file: pickle.dump(m, file)"
      ],
      "execution_count": 0,
      "outputs": [
        {
          "output_type": "stream",
          "text": [
            "         1    41074833.0526             +nan\n",
            "         1    41219626.1706             +nan\n"
          ],
          "name": "stderr"
        }
      ]
    },
    {
      "cell_type": "code",
      "metadata": {
        "id": "FtDfFEknmzip",
        "colab_type": "code",
        "colab": {}
      },
      "source": [
        "m.n_iter = 1"
      ],
      "execution_count": 0,
      "outputs": []
    },
    {
      "cell_type": "code",
      "metadata": {
        "id": "XpAw-IsBwDc9",
        "colab_type": "code",
        "colab": {}
      },
      "source": [
        "mm = hmm.GaussianHMM(n_components=50, covariance_type=\"full\", n_iter=3,verbose=True,init_params='')"
      ],
      "execution_count": 0,
      "outputs": []
    },
    {
      "cell_type": "code",
      "metadata": {
        "id": "pvzBXX8okjD8",
        "colab_type": "code",
        "colab": {}
      },
      "source": [
        "with open(\"model_Total_50.pkl\", \"wb\") as file: pickle.dump(mm, file)"
      ],
      "execution_count": 0,
      "outputs": []
    }
  ]
}