{
  "nbformat": 4,
  "nbformat_minor": 0,
  "metadata": {
    "colab": {
      "name": "cis_pd_predict.ipynb",
      "provenance": []
    },
    "kernelspec": {
      "name": "python3",
      "display_name": "Python 3"
    }
  },
  "cells": [
    {
      "cell_type": "code",
      "metadata": {
        "id": "QfWIP3XMSNJ4",
        "colab_type": "code",
        "outputId": "9f77b5f4-8183-41b7-8d03-1c3a7612a33a",
        "colab": {
          "base_uri": "https://localhost:8080/",
          "height": 34
        }
      },
      "source": [
        "cd '/content/drive/My Drive/PD/cis-pd'"
      ],
      "execution_count": 0,
      "outputs": [
        {
          "output_type": "stream",
          "text": [
            "/content/drive/My Drive/PD/cis-pd\n"
          ],
          "name": "stdout"
        }
      ]
    },
    {
      "cell_type": "code",
      "metadata": {
        "id": "-HcTg2jTST3W",
        "colab_type": "code",
        "outputId": "87d5454f-1851-4801-a94d-a38c43514225",
        "colab": {
          "base_uri": "https://localhost:8080/",
          "height": 71
        }
      },
      "source": [
        "import numpy as np\n",
        "import pickle\n",
        "import os\n",
        "from sklearn.externals import joblib\n"
      ],
      "execution_count": 0,
      "outputs": [
        {
          "output_type": "stream",
          "text": [
            "/usr/local/lib/python3.6/dist-packages/sklearn/externals/joblib/__init__.py:15: FutureWarning: sklearn.externals.joblib is deprecated in 0.21 and will be removed in 0.23. Please import this functionality directly from joblib, which can be installed with: pip install joblib. If this warning is raised when loading pickled models, you may need to re-serialize those models with scikit-learn 0.21+.\n",
            "  warnings.warn(msg, category=FutureWarning)\n"
          ],
          "name": "stderr"
        }
      ]
    },
    {
      "cell_type": "code",
      "metadata": {
        "id": "xcLMWLJQSYWi",
        "colab_type": "code",
        "colab": {}
      },
      "source": [
        "with open(\"train_Total_HMM_1.pkl\", \"rb\") as file: \n",
        "  train_HMM = pickle.load(file)\n",
        "with open(\"cis-pd-y_train.pkl\", \"rb\") as file: \n",
        "  labels = pickle.load(file)"
      ],
      "execution_count": 0,
      "outputs": []
    },
    {
      "cell_type": "code",
      "metadata": {
        "id": "dYCp7wmYS25b",
        "colab_type": "code",
        "outputId": "c58f8861-6393-4910-ec63-741eb68c9f59",
        "colab": {
          "base_uri": "https://localhost:8080/",
          "height": 34
        }
      },
      "source": [
        "train_HMM.shape"
      ],
      "execution_count": 0,
      "outputs": [
        {
          "output_type": "execute_result",
          "data": {
            "text/plain": [
              "(1858, 100)"
            ]
          },
          "metadata": {
            "tags": []
          },
          "execution_count": 4
        }
      ]
    },
    {
      "cell_type": "code",
      "metadata": {
        "id": "xj7kxXRlSoIk",
        "colab_type": "code",
        "colab": {}
      },
      "source": [
        "import pandas as pd\n",
        "import sklearn.svm as svm\n",
        "from sklearn.model_selection import train_test_split,GridSearchCV,RandomizedSearchCV\n",
        "from sklearn.metrics import f1_score\n",
        "from sklearn import metrics\n",
        "from sklearn.linear_model import LinearRegression,Lasso,Ridge\n",
        "from sklearn.model_selection import cross_val_score,ShuffleSplit,StratifiedShuffleSplit"
      ],
      "execution_count": 0,
      "outputs": []
    },
    {
      "cell_type": "code",
      "metadata": {
        "id": "hUsGQMEhWUpa",
        "colab_type": "code",
        "colab": {}
      },
      "source": [
        ""
      ],
      "execution_count": 0,
      "outputs": []
    },
    {
      "cell_type": "code",
      "metadata": {
        "id": "urz7-dflSrsb",
        "colab_type": "code",
        "outputId": "2761b0ab-c252-4386-86d5-e924f4fb3f15",
        "colab": {
          "base_uri": "https://localhost:8080/",
          "height": 34
        }
      },
      "source": [
        "labels_match = {'on_off':0,'dyskinesia':1,'tremor':2}\n",
        "l = 'tremor'\n",
        "Y = labels[:,labels_match[l]]\n",
        "\n",
        "not_nan = ~np.isnan(Y)\n",
        "X = train_HMM[not_nan]\n",
        "Y = Y[not_nan]\n",
        "\n",
        "seed = np.random.randint(100)\n",
        "trainX,testX,trainY,testY = train_test_split(X,Y,random_state = 20,test_size = 0.25)\n",
        "\n",
        "print(X.shape)"
      ],
      "execution_count": 0,
      "outputs": [
        {
          "output_type": "stream",
          "text": [
            "(1462, 100)\n"
          ],
          "name": "stdout"
        }
      ]
    },
    {
      "cell_type": "code",
      "metadata": {
        "id": "fVOmR-wx6_eK",
        "colab_type": "code",
        "outputId": "2ce9f84e-00f6-4b23-ef17-50bb88dbcad0",
        "colab": {
          "base_uri": "https://localhost:8080/",
          "height": 68
        }
      },
      "source": [
        "svc = svm.SVC(C=10, break_ties=False, cache_size=200, class_weight=None, coef0=0.0,\n",
        "    decision_function_shape='ovr', degree=3, gamma=0.01, kernel='rbf',\n",
        "    max_iter=5000, probability=False, random_state=None, shrinking=True,\n",
        "    tol=0.001, verbose=False)\n",
        "svc.fit(trainX,trainY)\n",
        "\n",
        "pred_trainY = svc.predict(trainX)\n",
        "pred_testY = svc.predict(testX)\n",
        "print(\"SVC_train accuracy rate: {} F1-score: {}\".format(svc.score(trainX,trainY),f1_score(trainY,pred_trainY,average = 'weighted')))\n",
        "print(\"SVC_test  accuracy rate: {} F1-score: {}\".format(svc.score(testX,testY),f1_score(testY,pred_testY,average = 'weighted')))\n",
        "print(\"MSE:{}\".format(np.mean(pred_testY-testY)**2))"
      ],
      "execution_count": 0,
      "outputs": [
        {
          "output_type": "stream",
          "text": [
            "SVC_train accuracy rate: 0.7116788321167883 F1-score: 0.6939000978261981\n",
            "SVC_test  accuracy rate: 0.5901639344262295 F1-score: 0.56704404819422\n",
            "MSE:0.04311863597002001\n"
          ],
          "name": "stdout"
        }
      ]
    },
    {
      "cell_type": "code",
      "metadata": {
        "id": "Qn_crouKoqmB",
        "colab_type": "code",
        "colab": {}
      },
      "source": [
        ""
      ],
      "execution_count": 0,
      "outputs": []
    },
    {
      "cell_type": "code",
      "metadata": {
        "id": "pPG5SiRvrmxe",
        "colab_type": "code",
        "colab": {}
      },
      "source": [
        "svc = svm.SVC(C=1, break_ties=False, cache_size=200, class_weight=None, coef0=0.0,\n",
        "    decision_function_shape='ovr', degree=3, gamma=0.01, kernel='linear',\n",
        "    max_iter=5000, probability=False, random_state=None, shrinking=True,\n",
        "    tol=0.001, verbose=False)\n",
        "cv = StratifiedShuffleSplit(n_splits=5, test_size=0.25, random_state=1)\n",
        "\n",
        "scores_accuracy = cross_val_score(svc, X, Y, cv=cv)\n",
        "scores_f1 = cross_val_score(svc,X,Y,cv=cv,scoring='f1_weighted')\n",
        "print(scores_accuracy.mean())\n",
        "print(scores_accuracy.std())  \n",
        "print(scores_f1.mean())\n",
        "print(scores_f1.std())"
      ],
      "execution_count": 0,
      "outputs": []
    },
    {
      "cell_type": "code",
      "metadata": {
        "id": "vcTp6BKfiZaV",
        "colab_type": "code",
        "colab": {}
      },
      "source": [
        "svc = svm.SVC(max_iter = 5000)\n",
        "cv = StratifiedShuffleSplit(n_splits=5, test_size=0.25, random_state=0)\n",
        "parameters = {'kernel':('linear', 'rbf','poly'),'degree':[3,5,7], 'C':[0.001, 0.01, 0.1, 1, 10],'gamma' : [ 0.01, 0.1, 1],'class_weight':['balanced',None]}\n",
        "clf = GridSearchCV(svc, parameters,cv=cv)\n",
        "clf.fit(X,Y)"
      ],
      "execution_count": 0,
      "outputs": []
    },
    {
      "cell_type": "code",
      "metadata": {
        "id": "BtVOxdLmKvK-",
        "colab_type": "code",
        "outputId": "a1ef0a31-9156-478b-d5f1-5858919bf984",
        "colab": {
          "base_uri": "https://localhost:8080/",
          "height": 85
        }
      },
      "source": [
        "clf.best_estimator_"
      ],
      "execution_count": 0,
      "outputs": [
        {
          "output_type": "execute_result",
          "data": {
            "text/plain": [
              "SVC(C=1, break_ties=False, cache_size=200, class_weight=None, coef0=0.0,\n",
              "    decision_function_shape='ovr', degree=3, gamma=0.01, kernel='linear',\n",
              "    max_iter=5000, probability=False, random_state=None, shrinking=True,\n",
              "    tol=0.001, verbose=False)"
            ]
          },
          "metadata": {
            "tags": []
          },
          "execution_count": 38
        }
      ]
    },
    {
      "cell_type": "code",
      "metadata": {
        "id": "5fh7KQlB6CPz",
        "colab_type": "code",
        "outputId": "dffb23ad-6548-4379-fb1a-08c022b1ece9",
        "colab": {
          "base_uri": "https://localhost:8080/",
          "height": 51
        }
      },
      "source": [
        "lr = LinearRegression()\n",
        "cv = StratifiedShuffleSplit(n_splits=5, test_size=0.25, random_state=0)\n",
        "\n",
        "scores_accuracy = cross_val_score(lr, X, Y, cv=cv,scoring='neg_mean_squared_error')\n",
        "print(scores_accuracy.mean())\n",
        "print(scores_accuracy.std())"
      ],
      "execution_count": 0,
      "outputs": [
        {
          "output_type": "stream",
          "text": [
            "-8.12717281170104\n",
            "12.525109021887094\n"
          ],
          "name": "stdout"
        }
      ]
    },
    {
      "cell_type": "code",
      "metadata": {
        "id": "gzOCJrU-6Jqe",
        "colab_type": "code",
        "outputId": "b4f81f6d-8ed7-4833-d6a0-67ec1192708b",
        "colab": {
          "base_uri": "https://localhost:8080/",
          "height": 51
        }
      },
      "source": [
        "lasso = Lasso(alpha=0.01,max_iter=5000)\n",
        "cv = StratifiedShuffleSplit(n_splits=5, test_size=0.25, random_state=1)\n",
        "\n",
        "scores_accuracy = cross_val_score(lasso, X, Y, cv=cv,scoring='neg_mean_squared_error')\n",
        "\n",
        "print(scores_accuracy.mean())\n",
        "print(scores_accuracy.std())\n",
        "#sum((lasso.predict(testX)-testY)**2)/len(testX)"
      ],
      "execution_count": 0,
      "outputs": [
        {
          "output_type": "stream",
          "text": [
            "-0.48764704583036156\n",
            "0.055006082766545845\n"
          ],
          "name": "stdout"
        }
      ]
    },
    {
      "cell_type": "code",
      "metadata": {
        "id": "Qjw-iCV3DeE9",
        "colab_type": "code",
        "outputId": "bf0f5ddc-14fa-4ace-b80f-3c136687fdbd",
        "colab": {
          "base_uri": "https://localhost:8080/",
          "height": 51
        }
      },
      "source": [
        "ridge=Ridge(alpha=10)\n",
        "cv = StratifiedShuffleSplit(n_splits=5, test_size=0.25, random_state=1)\n",
        "\n",
        "scores_accuracy = cross_val_score(ridge, X, Y, cv=cv,scoring='neg_mean_squared_error')\n",
        "\n",
        "print(scores_accuracy.mean())\n",
        "print(scores_accuracy.std())\n",
        "#sum((ridge.predict(testX)-testY)**2)/len(testX)"
      ],
      "execution_count": 0,
      "outputs": [
        {
          "output_type": "stream",
          "text": [
            "-4.226428113241333\n",
            "4.456016272069426\n"
          ],
          "name": "stdout"
        }
      ]
    },
    {
      "cell_type": "code",
      "metadata": {
        "id": "4ej5yb_jxjVK",
        "colab_type": "code",
        "colab": {}
      },
      "source": [
        "cv = StratifiedShuffleSplit(n_splits=5, test_size=0.25, random_state=0)"
      ],
      "execution_count": 0,
      "outputs": []
    },
    {
      "cell_type": "code",
      "metadata": {
        "id": "klecRBMFxjvh",
        "colab_type": "code",
        "colab": {}
      },
      "source": [
        "for i in cv.split(X,Y):\n",
        "  print(i)"
      ],
      "execution_count": 0,
      "outputs": []
    },
    {
      "cell_type": "code",
      "metadata": {
        "id": "Ct1drQ3Ps3pD",
        "colab_type": "code",
        "outputId": "300413bd-9369-4fc9-cb1b-165fdedaa00b",
        "colab": {
          "base_uri": "https://localhost:8080/",
          "height": 119
        }
      },
      "source": [
        "# lsvc = svm.LinearSVC(max_iter=100000,class_weight='balanced')\n",
        "# lsvc.fit(trainX,trainY)"
      ],
      "execution_count": 0,
      "outputs": [
        {
          "output_type": "stream",
          "text": [
            "/usr/local/lib/python3.6/dist-packages/sklearn/svm/_base.py:947: ConvergenceWarning: Liblinear failed to converge, increase the number of iterations.\n",
            "  \"the number of iterations.\", ConvergenceWarning)\n"
          ],
          "name": "stderr"
        },
        {
          "output_type": "execute_result",
          "data": {
            "text/plain": [
              "LinearSVC(C=1.0, class_weight='balanced', dual=True, fit_intercept=True,\n",
              "          intercept_scaling=1, loss='squared_hinge', max_iter=100000,\n",
              "          multi_class='ovr', penalty='l2', random_state=None, tol=0.0001,\n",
              "          verbose=0)"
            ]
          },
          "metadata": {
            "tags": []
          },
          "execution_count": 34
        }
      ]
    },
    {
      "cell_type": "code",
      "metadata": {
        "id": "nmHfVY0Htkf5",
        "colab_type": "code",
        "colab": {}
      },
      "source": [
        "pred_trainY = lsvc.predict(trainX)\n",
        "pred_testY = lsvc.predict(testX)\n",
        "print(\"SVC_train accuracy rate: {} F1-score: {}\".format(lsvc.score(trainX,trainY),f1_score(trainY,pred_trainY,average = 'weighted')))\n",
        "print(\"SVC_test  accuracy rate: {} F1-score: {}\".format(lsvc.score(testX,testY),f1_score(testY,pred_testY,average = 'weighted')))\n",
        "\n",
        "print(metrics.confusion_matrix(trainY, pred_trainY))\n",
        "print(metrics.classification_report(trainY,pred_trainY, digits=3))\n",
        "print(metrics.confusion_matrix(testY, pred_testY))\n",
        "print(metrics.classification_report(testY,pred_testY, digits=3))"
      ],
      "execution_count": 0,
      "outputs": []
    },
    {
      "cell_type": "code",
      "metadata": {
        "id": "dUKqZUCWTL4T",
        "colab_type": "code",
        "outputId": "e675c87a-58c3-4661-97f1-828f7869c3d3",
        "colab": {
          "base_uri": "https://localhost:8080/",
          "height": 85
        }
      },
      "source": [
        "svc = svm.SVC(class_weight='balanced',kernel = 'linear',degree = 7,)\n",
        "svc.fit(trainX,trainY)"
      ],
      "execution_count": 0,
      "outputs": [
        {
          "output_type": "execute_result",
          "data": {
            "text/plain": [
              "SVC(C=1.0, break_ties=False, cache_size=200, class_weight='balanced', coef0=0.0,\n",
              "    decision_function_shape='ovr', degree=3, gamma='scale', kernel='linear',\n",
              "    max_iter=-1, probability=False, random_state=None, shrinking=True,\n",
              "    tol=0.001, verbose=False)"
            ]
          },
          "metadata": {
            "tags": []
          },
          "execution_count": 112
        }
      ]
    },
    {
      "cell_type": "code",
      "metadata": {
        "id": "9cJoVyJiTOvQ",
        "colab_type": "code",
        "colab": {}
      },
      "source": [
        "pred_trainY = svc.predict(trainX)\n",
        "pred_testY = svc.predict(testX)\n",
        "print(\"SVC_train accuracy rate: {} F1-score: {}\".format(svc.score(trainX,trainY),f1_score(trainY,pred_trainY,average = 'weighted')))\n",
        "print(\"SVC_test  accuracy rate: {} F1-score: {}\".format(svc.score(testX,testY),f1_score(testY,pred_testY,average = 'weighted')))\n",
        "\n",
        "print(metrics.confusion_matrix(trainY, pred_trainY))\n",
        "print(metrics.classification_report(trainY,pred_trainY, digits=3))\n",
        "print(metrics.confusion_matrix(testY, pred_testY))\n",
        "print(metrics.classification_report(testY,pred_testY, digits=3))"
      ],
      "execution_count": 0,
      "outputs": []
    },
    {
      "cell_type": "code",
      "metadata": {
        "id": "8k3j7SFfWFDw",
        "colab_type": "code",
        "colab": {}
      },
      "source": [
        "svc = svm.SVC()\n",
        "parameters = {'kernel':('linear', 'rbf','poly'),'degree':[3,5,7], 'C':[0.001, 0.01, 0.1, 1, 10],'gamma' : [ 0.01, 0.1, 1],'class_weight':['balanced',None]}\n",
        "clf = RandomizedSearchCV(svc, parameters)\n",
        "clf.fit(trainX,trainY)"
      ],
      "execution_count": 0,
      "outputs": []
    },
    {
      "cell_type": "code",
      "metadata": {
        "id": "cK1Wnt0-WLG2",
        "colab_type": "code",
        "outputId": "a3612d65-96ca-4e0d-f052-be97824a3943",
        "colab": {
          "base_uri": "https://localhost:8080/",
          "height": 85
        }
      },
      "source": [
        "clf.best_estimator_"
      ],
      "execution_count": 0,
      "outputs": [
        {
          "output_type": "execute_result",
          "data": {
            "text/plain": [
              "SVC(C=0.1, break_ties=False, cache_size=200, class_weight=None, coef0=0.0,\n",
              "    decision_function_shape='ovr', degree=7, gamma=0.01, kernel='linear',\n",
              "    max_iter=-1, probability=False, random_state=None, shrinking=True,\n",
              "    tol=0.001, verbose=False)"
            ]
          },
          "metadata": {
            "tags": []
          },
          "execution_count": 26
        }
      ]
    },
    {
      "cell_type": "code",
      "metadata": {
        "id": "VzT61OQPhbtT",
        "colab_type": "code",
        "outputId": "5a9b9af2-bf42-445f-99a9-c29357ca5606",
        "colab": {
          "base_uri": "https://localhost:8080/",
          "height": 34
        }
      },
      "source": [
        "clf.score(testX,testY)"
      ],
      "execution_count": 0,
      "outputs": [
        {
          "output_type": "execute_result",
          "data": {
            "text/plain": [
              "0.6284153005464481"
            ]
          },
          "metadata": {
            "tags": []
          },
          "execution_count": 27
        }
      ]
    },
    {
      "cell_type": "code",
      "metadata": {
        "id": "DTZpB09_WNeb",
        "colab_type": "code",
        "outputId": "b52d2f07-29e1-4007-d89f-f12dd700ab7c",
        "colab": {
          "base_uri": "https://localhost:8080/",
          "height": 34
        }
      },
      "source": [
        "sum((clf.predict(testX)-testY)**2)/len(testX)"
      ],
      "execution_count": 0,
      "outputs": [
        {
          "output_type": "execute_result",
          "data": {
            "text/plain": [
              "0.67003367003367"
            ]
          },
          "metadata": {
            "tags": []
          },
          "execution_count": 47
        }
      ]
    },
    {
      "cell_type": "code",
      "metadata": {
        "id": "VzMSdo3T-Prt",
        "colab_type": "code",
        "colab": {}
      },
      "source": [
        "sorted(metrics.SCORERS.keys())"
      ],
      "execution_count": 0,
      "outputs": []
    },
    {
      "cell_type": "code",
      "metadata": {
        "id": "Hx3hnCUflzJH",
        "colab_type": "code",
        "outputId": "bd12035c-d39c-4992-becd-d5134711354d",
        "colab": {
          "base_uri": "https://localhost:8080/",
          "height": 292
        }
      },
      "source": [
        "lasso = Lasso(max_iter=5000)\n",
        "cv = StratifiedShuffleSplit(n_splits=5, test_size=0.25, random_state=0)\n",
        "parameters = {'alpha':[0.005, 0.01, 0.1, 1, 10]}\n",
        "clf_lasso = GridSearchCV(lasso, parameters,cv=cv)\n",
        "clf_lasso.fit(X,Y)"
      ],
      "execution_count": 0,
      "outputs": [
        {
          "output_type": "stream",
          "text": [
            "/usr/local/lib/python3.6/dist-packages/sklearn/linear_model/_coordinate_descent.py:476: ConvergenceWarning: Objective did not converge. You might want to increase the number of iterations. Duality gap: 0.7089621849428909, tolerance: 0.09029306569343058\n",
            "  positive)\n",
            "/usr/local/lib/python3.6/dist-packages/sklearn/linear_model/_coordinate_descent.py:476: ConvergenceWarning: Objective did not converge. You might want to increase the number of iterations. Duality gap: 0.11751457510519003, tolerance: 0.09029306569343057\n",
            "  positive)\n"
          ],
          "name": "stderr"
        },
        {
          "output_type": "execute_result",
          "data": {
            "text/plain": [
              "GridSearchCV(cv=StratifiedShuffleSplit(n_splits=5, random_state=0, test_size=0.25,\n",
              "            train_size=None),\n",
              "             error_score=nan,\n",
              "             estimator=Lasso(alpha=1.0, copy_X=True, fit_intercept=True,\n",
              "                             max_iter=5000, normalize=False, positive=False,\n",
              "                             precompute=False, random_state=None,\n",
              "                             selection='cyclic', tol=0.0001, warm_start=False),\n",
              "             iid='deprecated', n_jobs=None,\n",
              "             param_grid={'alpha': [0.005, 0.01, 0.1, 1, 10]},\n",
              "             pre_dispatch='2*n_jobs', refit=True, return_train_score=False,\n",
              "             scoring=None, verbose=0)"
            ]
          },
          "metadata": {
            "tags": []
          },
          "execution_count": 20
        }
      ]
    },
    {
      "cell_type": "code",
      "metadata": {
        "id": "__mfsbbypCsD",
        "colab_type": "code",
        "outputId": "08465507-d955-4eee-81dd-5f0ea6ca9ead",
        "colab": {
          "base_uri": "https://localhost:8080/",
          "height": 442
        }
      },
      "source": [
        "clf_lasso.best_estimator_.coef_"
      ],
      "execution_count": 0,
      "outputs": [
        {
          "output_type": "execute_result",
          "data": {
            "text/plain": [
              "array([-3.41058708e-03, -1.55658719e-03, -0.00000000e+00,  1.25909090e-02,\n",
              "        0.00000000e+00, -2.34110232e-03,  0.00000000e+00,  0.00000000e+00,\n",
              "        0.00000000e+00,  0.00000000e+00,  1.00021603e-02,  0.00000000e+00,\n",
              "       -0.00000000e+00, -0.00000000e+00, -0.00000000e+00, -6.40776608e-04,\n",
              "       -3.99724191e-03, -1.63813342e-03, -0.00000000e+00,  0.00000000e+00,\n",
              "        0.00000000e+00,  6.53311924e-03,  1.09091198e-02, -9.29007200e-03,\n",
              "       -2.29825102e-03, -0.00000000e+00,  3.41613915e-03,  9.05376452e-03,\n",
              "        0.00000000e+00,  0.00000000e+00,  1.61840684e-03, -0.00000000e+00,\n",
              "       -0.00000000e+00,  6.78801516e-03,  0.00000000e+00, -3.62842844e-03,\n",
              "       -0.00000000e+00, -0.00000000e+00,  1.82674369e-03, -2.57971258e-03,\n",
              "        7.11745827e-03, -0.00000000e+00, -0.00000000e+00,  0.00000000e+00,\n",
              "        0.00000000e+00, -1.64205145e-02, -3.67274724e-02, -0.00000000e+00,\n",
              "       -0.00000000e+00,  0.00000000e+00, -0.00000000e+00,  0.00000000e+00,\n",
              "       -0.00000000e+00,  0.00000000e+00,  0.00000000e+00, -0.00000000e+00,\n",
              "        0.00000000e+00, -0.00000000e+00,  0.00000000e+00, -0.00000000e+00,\n",
              "        0.00000000e+00,  0.00000000e+00,  0.00000000e+00,  0.00000000e+00,\n",
              "        0.00000000e+00,  0.00000000e+00, -5.80094355e-01, -4.15393611e-02,\n",
              "       -0.00000000e+00, -0.00000000e+00,  0.00000000e+00, -0.00000000e+00,\n",
              "       -0.00000000e+00, -0.00000000e+00,  0.00000000e+00,  0.00000000e+00,\n",
              "       -0.00000000e+00, -0.00000000e+00, -0.00000000e+00, -0.00000000e+00,\n",
              "       -1.05286798e+00, -0.00000000e+00, -0.00000000e+00,  1.73711806e-01,\n",
              "        1.17841356e+00, -0.00000000e+00, -0.00000000e+00, -0.00000000e+00,\n",
              "       -2.75877578e-01, -0.00000000e+00,  0.00000000e+00,  0.00000000e+00,\n",
              "        1.35414243e+00, -0.00000000e+00,  0.00000000e+00,  0.00000000e+00,\n",
              "       -0.00000000e+00,  2.45033523e+00,  0.00000000e+00, -0.00000000e+00])"
            ]
          },
          "metadata": {
            "tags": []
          },
          "execution_count": 26
        }
      ]
    },
    {
      "cell_type": "code",
      "metadata": {
        "id": "k4jEg5vFMwlB",
        "colab_type": "code",
        "outputId": "f6a10ec7-b801-4e6c-db4b-2ec67ef37a6e",
        "colab": {
          "base_uri": "https://localhost:8080/",
          "height": 187
        }
      },
      "source": [
        "ridge = Ridge(max_iter=5000)\n",
        "cv = StratifiedShuffleSplit(n_splits=5, test_size=0.25, random_state=0)\n",
        "parameters = {'alpha':[0.005, 0.01, 0.1, 1, 10]}\n",
        "clf_ridge = GridSearchCV(ridge, parameters,cv=cv)\n",
        "clf_ridge.fit(X,Y)"
      ],
      "execution_count": 0,
      "outputs": [
        {
          "output_type": "execute_result",
          "data": {
            "text/plain": [
              "GridSearchCV(cv=StratifiedShuffleSplit(n_splits=5, random_state=0, test_size=0.25,\n",
              "            train_size=None),\n",
              "             error_score=nan,\n",
              "             estimator=Ridge(alpha=1.0, copy_X=True, fit_intercept=True,\n",
              "                             max_iter=5000, normalize=False, random_state=None,\n",
              "                             solver='auto', tol=0.001),\n",
              "             iid='deprecated', n_jobs=None,\n",
              "             param_grid={'alpha': [0.005, 0.01, 0.1, 1, 10]},\n",
              "             pre_dispatch='2*n_jobs', refit=True, return_train_score=False,\n",
              "             scoring=None, verbose=0)"
            ]
          },
          "metadata": {
            "tags": []
          },
          "execution_count": 22
        }
      ]
    },
    {
      "cell_type": "code",
      "metadata": {
        "id": "jW6WMs5kdRps",
        "colab_type": "code",
        "outputId": "14274b96-129d-4b95-9543-d68f66fa97da",
        "colab": {
          "base_uri": "https://localhost:8080/",
          "height": 68
        }
      },
      "source": [
        "clf_lasso.best_estimator_"
      ],
      "execution_count": 0,
      "outputs": [
        {
          "output_type": "execute_result",
          "data": {
            "text/plain": [
              "Lasso(alpha=0.1, copy_X=True, fit_intercept=True, max_iter=5000,\n",
              "      normalize=False, positive=False, precompute=False, random_state=None,\n",
              "      selection='cyclic', tol=0.0001, warm_start=False)"
            ]
          },
          "metadata": {
            "tags": []
          },
          "execution_count": 32
        }
      ]
    },
    {
      "cell_type": "code",
      "metadata": {
        "id": "PIVNDT-4NKbl",
        "colab_type": "code",
        "outputId": "3ec0c643-cccc-4c88-b94c-049640ee369c",
        "colab": {
          "base_uri": "https://localhost:8080/",
          "height": 51
        }
      },
      "source": [
        "clf_ridge.best_estimator_"
      ],
      "execution_count": 0,
      "outputs": [
        {
          "output_type": "execute_result",
          "data": {
            "text/plain": [
              "Ridge(alpha=10, copy_X=True, fit_intercept=True, max_iter=5000, normalize=False,\n",
              "      random_state=None, solver='auto', tol=0.001)"
            ]
          },
          "metadata": {
            "tags": []
          },
          "execution_count": 23
        }
      ]
    },
    {
      "cell_type": "code",
      "metadata": {
        "id": "iN0IU3clnBVg",
        "colab_type": "code",
        "colab": {}
      },
      "source": [
        "ridge = Ridge()\n",
        "parameters = {'alpha':[0.00, 0.01, 0.1, 1, 10]}\n",
        "clf_lasso = RandomizedSearchCV(lasso, parameters)\n",
        "clf.fit(trainX,trainY)"
      ],
      "execution_count": 0,
      "outputs": []
    },
    {
      "cell_type": "code",
      "metadata": {
        "id": "hbLIJsBh6XXh",
        "colab_type": "code",
        "outputId": "08b7496b-88e9-46b3-800a-d998f9610c71",
        "colab": {
          "base_uri": "https://localhost:8080/",
          "height": 51
        }
      },
      "source": [
        "ridge = Ridge()\n",
        "cv = StratifiedShuffleSplit(n_splits=5, test_size=0.25, random_state=0)\n",
        "\n",
        "scores_accuracy = cross_val_score(ridge, X, Y, cv=cv,scoring='neg_mean_squared_error')\n",
        "\n",
        "print(scores_accuracy.mean())\n",
        "print(scores_accuracy.std())"
      ],
      "execution_count": 0,
      "outputs": [
        {
          "output_type": "stream",
          "text": [
            "-0.7250338170489272\n",
            "0.5200963153279429\n"
          ],
          "name": "stdout"
        }
      ]
    },
    {
      "cell_type": "code",
      "metadata": {
        "id": "Y_TStJKQ9ALz",
        "colab_type": "code",
        "outputId": "6541f014-ba2e-48a0-a068-f9b9ab29f74d",
        "colab": {
          "base_uri": "https://localhost:8080/",
          "height": 51
        }
      },
      "source": [
        "scores_accuracy"
      ],
      "execution_count": 0,
      "outputs": [
        {
          "output_type": "execute_result",
          "data": {
            "text/plain": [
              "array([-4.65771695e-01, -1.79745292e+03, -2.27996813e+02, -2.78883592e+03,\n",
              "       -4.75849508e-01])"
            ]
          },
          "metadata": {
            "tags": []
          },
          "execution_count": 107
        }
      ]
    },
    {
      "cell_type": "code",
      "metadata": {
        "id": "te5BEqhpWVij",
        "colab_type": "code",
        "colab": {}
      },
      "source": [
        "lr = LinearRegression()\n",
        "lr.fit(trainX,trainY)"
      ],
      "execution_count": 0,
      "outputs": []
    },
    {
      "cell_type": "code",
      "metadata": {
        "id": "BeFPUZunWarK",
        "colab_type": "code",
        "colab": {}
      },
      "source": [
        "sum((lr.predict(testX)-testY)**2)/len(testX)"
      ],
      "execution_count": 0,
      "outputs": []
    },
    {
      "cell_type": "code",
      "metadata": {
        "id": "_mdG7220WXwo",
        "colab_type": "code",
        "outputId": "75ca4c84-e95f-42d7-937a-be9fbbe75acd",
        "colab": {
          "base_uri": "https://localhost:8080/",
          "height": 68
        }
      },
      "source": [
        "lasso = Lasso(alpha = 0.01)\n",
        "lasso.fit(trainX,trainY)"
      ],
      "execution_count": 0,
      "outputs": [
        {
          "output_type": "execute_result",
          "data": {
            "text/plain": [
              "Lasso(alpha=0.01, copy_X=True, fit_intercept=True, max_iter=1000,\n",
              "      normalize=False, positive=False, precompute=False, random_state=None,\n",
              "      selection='cyclic', tol=0.0001, warm_start=False)"
            ]
          },
          "metadata": {
            "tags": []
          },
          "execution_count": 23
        }
      ]
    },
    {
      "cell_type": "code",
      "metadata": {
        "id": "dYoyv1ORGZ4x",
        "colab_type": "code",
        "outputId": "468c28bc-4dee-45e4-a1f3-345bc096cd81",
        "colab": {
          "base_uri": "https://localhost:8080/",
          "height": 442
        }
      },
      "source": [
        "lasso.coef_"
      ],
      "execution_count": 0,
      "outputs": [
        {
          "output_type": "execute_result",
          "data": {
            "text/plain": [
              "array([0.00000000e+00, 0.00000000e+00, 0.00000000e+00, 0.00000000e+00,\n",
              "       0.00000000e+00, 0.00000000e+00, 0.00000000e+00, 0.00000000e+00,\n",
              "       0.00000000e+00, 0.00000000e+00, 0.00000000e+00, 0.00000000e+00,\n",
              "       0.00000000e+00, 0.00000000e+00, 0.00000000e+00, 0.00000000e+00,\n",
              "       0.00000000e+00, 0.00000000e+00, 0.00000000e+00, 6.02011554e-05,\n",
              "       0.00000000e+00, 0.00000000e+00, 0.00000000e+00, 0.00000000e+00,\n",
              "       0.00000000e+00, 0.00000000e+00, 0.00000000e+00, 0.00000000e+00,\n",
              "       0.00000000e+00, 0.00000000e+00, 0.00000000e+00, 0.00000000e+00,\n",
              "       0.00000000e+00, 0.00000000e+00, 0.00000000e+00, 0.00000000e+00,\n",
              "       0.00000000e+00, 0.00000000e+00, 0.00000000e+00, 0.00000000e+00,\n",
              "       0.00000000e+00, 0.00000000e+00, 0.00000000e+00, 0.00000000e+00,\n",
              "       0.00000000e+00, 0.00000000e+00, 0.00000000e+00, 0.00000000e+00,\n",
              "       0.00000000e+00, 0.00000000e+00, 0.00000000e+00, 0.00000000e+00,\n",
              "       0.00000000e+00, 0.00000000e+00, 0.00000000e+00, 0.00000000e+00,\n",
              "       0.00000000e+00, 0.00000000e+00, 0.00000000e+00, 0.00000000e+00,\n",
              "       0.00000000e+00, 0.00000000e+00, 0.00000000e+00, 0.00000000e+00,\n",
              "       0.00000000e+00, 0.00000000e+00, 0.00000000e+00, 0.00000000e+00,\n",
              "       0.00000000e+00, 2.43199456e-02, 0.00000000e+00, 0.00000000e+00,\n",
              "       0.00000000e+00, 0.00000000e+00, 0.00000000e+00, 0.00000000e+00,\n",
              "       0.00000000e+00, 0.00000000e+00, 0.00000000e+00, 0.00000000e+00,\n",
              "       0.00000000e+00, 0.00000000e+00, 0.00000000e+00, 0.00000000e+00,\n",
              "       0.00000000e+00, 0.00000000e+00, 0.00000000e+00, 0.00000000e+00,\n",
              "       0.00000000e+00, 0.00000000e+00, 0.00000000e+00, 0.00000000e+00,\n",
              "       0.00000000e+00, 0.00000000e+00, 0.00000000e+00, 0.00000000e+00,\n",
              "       0.00000000e+00, 0.00000000e+00, 0.00000000e+00, 0.00000000e+00])"
            ]
          },
          "metadata": {
            "tags": []
          },
          "execution_count": 141
        }
      ]
    },
    {
      "cell_type": "code",
      "metadata": {
        "id": "vv9-FKM_WZ6V",
        "colab_type": "code",
        "outputId": "ebb263f6-5dd7-4d50-d2a3-b774853604c9",
        "colab": {
          "base_uri": "https://localhost:8080/",
          "height": 34
        }
      },
      "source": [
        "sum((clf_lasso.predict(testX)-testY)**2)/len(testX)"
      ],
      "execution_count": 0,
      "outputs": [
        {
          "output_type": "execute_result",
          "data": {
            "text/plain": [
              "0.5229014401921984"
            ]
          },
          "metadata": {
            "tags": []
          },
          "execution_count": 49
        }
      ]
    },
    {
      "cell_type": "code",
      "metadata": {
        "id": "S2lgFuCCnADy",
        "colab_type": "code",
        "colab": {}
      },
      "source": [
        ""
      ],
      "execution_count": 0,
      "outputs": []
    }
  ]
}