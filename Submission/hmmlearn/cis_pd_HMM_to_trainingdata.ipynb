{
  "nbformat": 4,
  "nbformat_minor": 0,
  "metadata": {
    "colab": {
      "name": "cis_pd_HMM_to_trainingdata.ipynb",
      "provenance": [],
      "collapsed_sections": []
    },
    "kernelspec": {
      "name": "python3",
      "display_name": "Python 3"
    }
  },
  "cells": [
    {
      "cell_type": "code",
      "metadata": {
        "id": "whSx2mhWwotQ",
        "colab_type": "code",
        "outputId": "5d51befa-d2a1-42dc-ee82-b7b59f1df3be",
        "colab": {
          "base_uri": "https://localhost:8080/",
          "height": 34
        }
      },
      "source": [
        "cd '/content/drive/My Drive/PD/cis-pd'"
      ],
      "execution_count": 0,
      "outputs": [
        {
          "output_type": "stream",
          "text": [
            "/content/drive/My Drive/PD/cis-pd\n"
          ],
          "name": "stdout"
        }
      ]
    },
    {
      "cell_type": "code",
      "metadata": {
        "id": "muzrqXYZwxXv",
        "colab_type": "code",
        "outputId": "74da3634-35bd-4ce1-90fd-450f8ce7f48a",
        "colab": {
          "base_uri": "https://localhost:8080/",
          "height": 170
        }
      },
      "source": [
        "!pip install hmmlearn\n",
        "from hmmlearn import hmm\n",
        "import numpy as np\n",
        "import pickle\n",
        "import os"
      ],
      "execution_count": 0,
      "outputs": [
        {
          "output_type": "stream",
          "text": [
            "Collecting hmmlearn\n",
            "\u001b[?25l  Downloading https://files.pythonhosted.org/packages/ff/7b/33f629a443a0671161c019e55c3f1b511c7e9fdce5ab8c8c3c33470eb939/hmmlearn-0.2.3-cp36-cp36m-manylinux1_x86_64.whl (363kB)\n",
            "\r\u001b[K     |█                               | 10kB 16.2MB/s eta 0:00:01\r\u001b[K     |█▉                              | 20kB 2.1MB/s eta 0:00:01\r\u001b[K     |██▊                             | 30kB 3.1MB/s eta 0:00:01\r\u001b[K     |███▋                            | 40kB 2.0MB/s eta 0:00:01\r\u001b[K     |████▌                           | 51kB 2.5MB/s eta 0:00:01\r\u001b[K     |█████▍                          | 61kB 3.0MB/s eta 0:00:01\r\u001b[K     |██████▎                         | 71kB 3.4MB/s eta 0:00:01\r\u001b[K     |███████▏                        | 81kB 2.6MB/s eta 0:00:01\r\u001b[K     |████████                        | 92kB 2.9MB/s eta 0:00:01\r\u001b[K     |█████████                       | 102kB 3.2MB/s eta 0:00:01\r\u001b[K     |██████████                      | 112kB 3.2MB/s eta 0:00:01\r\u001b[K     |██████████▉                     | 122kB 3.2MB/s eta 0:00:01\r\u001b[K     |███████████▊                    | 133kB 3.2MB/s eta 0:00:01\r\u001b[K     |████████████▋                   | 143kB 3.2MB/s eta 0:00:01\r\u001b[K     |█████████████▌                  | 153kB 3.2MB/s eta 0:00:01\r\u001b[K     |██████████████▍                 | 163kB 3.2MB/s eta 0:00:01\r\u001b[K     |███████████████▎                | 174kB 3.2MB/s eta 0:00:01\r\u001b[K     |████████████████▏               | 184kB 3.2MB/s eta 0:00:01\r\u001b[K     |█████████████████               | 194kB 3.2MB/s eta 0:00:01\r\u001b[K     |██████████████████              | 204kB 3.2MB/s eta 0:00:01\r\u001b[K     |███████████████████             | 215kB 3.2MB/s eta 0:00:01\r\u001b[K     |███████████████████▉            | 225kB 3.2MB/s eta 0:00:01\r\u001b[K     |████████████████████▊           | 235kB 3.2MB/s eta 0:00:01\r\u001b[K     |█████████████████████▋          | 245kB 3.2MB/s eta 0:00:01\r\u001b[K     |██████████████████████▌         | 256kB 3.2MB/s eta 0:00:01\r\u001b[K     |███████████████████████▍        | 266kB 3.2MB/s eta 0:00:01\r\u001b[K     |████████████████████████▎       | 276kB 3.2MB/s eta 0:00:01\r\u001b[K     |█████████████████████████▏      | 286kB 3.2MB/s eta 0:00:01\r\u001b[K     |██████████████████████████      | 296kB 3.2MB/s eta 0:00:01\r\u001b[K     |███████████████████████████     | 307kB 3.2MB/s eta 0:00:01\r\u001b[K     |████████████████████████████    | 317kB 3.2MB/s eta 0:00:01\r\u001b[K     |████████████████████████████▉   | 327kB 3.2MB/s eta 0:00:01\r\u001b[K     |█████████████████████████████▊  | 337kB 3.2MB/s eta 0:00:01\r\u001b[K     |██████████████████████████████▋ | 348kB 3.2MB/s eta 0:00:01\r\u001b[K     |███████████████████████████████▌| 358kB 3.2MB/s eta 0:00:01\r\u001b[K     |████████████████████████████████| 368kB 3.2MB/s \n",
            "\u001b[?25hRequirement already satisfied: scipy>=0.15 in /usr/local/lib/python3.6/dist-packages (from hmmlearn) (1.4.1)\n",
            "Requirement already satisfied: numpy>=1.10 in /usr/local/lib/python3.6/dist-packages (from hmmlearn) (1.18.3)\n",
            "Requirement already satisfied: scikit-learn>=0.16 in /usr/local/lib/python3.6/dist-packages (from hmmlearn) (0.22.2.post1)\n",
            "Requirement already satisfied: joblib>=0.11 in /usr/local/lib/python3.6/dist-packages (from scikit-learn>=0.16->hmmlearn) (0.14.1)\n",
            "Installing collected packages: hmmlearn\n",
            "Successfully installed hmmlearn-0.2.3\n"
          ],
          "name": "stdout"
        }
      ]
    },
    {
      "cell_type": "code",
      "metadata": {
        "id": "9K-qYlvCw1cP",
        "colab_type": "code",
        "colab": {}
      },
      "source": [
        "'''\n",
        "Read HMM model for transforming data sequence into state sequence.\n",
        "Read memo for splitting data into the original length.\n",
        "'''\n",
        "\n",
        "with open(\"model_Total_50.pkl\", \"rb\") as file: \n",
        "  m = pickle.load(file)\n",
        "with open(\"cis-pd-memo.pkl\", \"rb\") as file: \n",
        "  memo = pickle.load(file)"
      ],
      "execution_count": 0,
      "outputs": []
    },
    {
      "cell_type": "code",
      "metadata": {
        "id": "Y9Qb_3LB0Hf1",
        "colab_type": "code",
        "outputId": "99a522c0-6e3a-463c-a806-de7f53e7f1ae",
        "colab": {
          "base_uri": "https://localhost:8080/",
          "height": 102
        }
      },
      "source": [
        "m"
      ],
      "execution_count": 0,
      "outputs": [
        {
          "output_type": "execute_result",
          "data": {
            "text/plain": [
              "GaussianHMM(algorithm='viterbi', covariance_type='full', covars_prior=0.01,\n",
              "            covars_weight=1, init_params='', means_prior=0, means_weight=0,\n",
              "            min_covar=0.001, n_components=50, n_iter=1, params='stmc',\n",
              "            random_state=None, startprob_prior=1.0, tol=0.01,\n",
              "            transmat_prior=1.0, verbose=True)"
            ]
          },
          "metadata": {
            "tags": []
          },
          "execution_count": 4
        }
      ]
    },
    {
      "cell_type": "code",
      "metadata": {
        "id": "vx5S8DD8w4Zy",
        "colab_type": "code",
        "colab": {}
      },
      "source": [
        "'''\n",
        "Read the name of file in the specified directory.\n",
        "'''\n",
        "\n",
        "directory = 'outputA_Total/'\n",
        "l = []\n",
        "name = []\n",
        "for filename in os.listdir(directory):\n",
        "    if filename.endswith(\".csv\"):\n",
        "      name.append(filename[:-4])"
      ],
      "execution_count": 0,
      "outputs": []
    },
    {
      "cell_type": "code",
      "metadata": {
        "id": "QS7y1uEYw8jf",
        "colab_type": "code",
        "outputId": "791a4869-8553-481e-a997-6d6e4cba8ff2",
        "colab": {
          "base_uri": "https://localhost:8080/",
          "height": 34
        }
      },
      "source": [
        "'''\n",
        "Transorm data sequence to state sequence.\n",
        "Then generate the transition matrix for each state sequence, and store it in all_tran.\n",
        "'''\n",
        "\n",
        "all_tran = {}\n",
        "counter = 0\n",
        "\n",
        "c_state = m.n_components\n",
        "for n in name:\n",
        "  cur = 0\n",
        "  k = np.loadtxt(directory+n+'.csv')\n",
        "  for t in memo[int(n)]['train']+memo[int(n)]['test']:\n",
        "    seq = m.predict(k[cur:cur+t])\n",
        "    cur += (t+1)\n",
        "    tran = np.zeros((c_state,c_state))\n",
        "    for ts in range(t-1):\n",
        "      tran[seq[ts]-1][seq[ts-1]-1] += 1\n",
        "    tran = np.where(tran == 0,0.1,tran)\n",
        "\n",
        "    tran = tran/tran.sum(axis=1).reshape(-1,1)\n",
        "    all_tran[counter] = tran\n",
        "    counter+=1\n",
        "\n",
        "'''\n",
        "Find the stationary distribution of each transition matrix, and store it in all_HMM.\n",
        "'''\n",
        "\n",
        "all_HMM = np.zeros((len(all_tran),c_state*2))\n",
        "\n",
        "for i in range(len(all_tran)):\n",
        "  tran = all_tran[i]\n",
        "  d,v = np.linalg.eig(tran.T)\n",
        "  pos_zero = np.argmin(abs(d-1))\n",
        "  if np.round(d[pos_zero],6) != 1:\n",
        "    print('{} has no eigenvalue equal to one'.format(i))\n",
        "  \n",
        "  p = v[pos_zero]\n",
        "  p /= sum(p)\n",
        "\n",
        "  all_HMM[i,:c_state] = p"
      ],
      "execution_count": 0,
      "outputs": [
        {
          "output_type": "stream",
          "text": [
            "/usr/local/lib/python3.6/dist-packages/ipykernel_launcher.py:41: ComplexWarning: Casting complex values to real discards the imaginary part\n"
          ],
          "name": "stderr"
        }
      ]
    },
    {
      "cell_type": "code",
      "metadata": {
        "id": "RBNV-E83xBFa",
        "colab_type": "code",
        "colab": {}
      },
      "source": [
        "'''\n",
        "Split all_HMM into train_HMM and test_HMM. Note that, both of them are used when building HMM, so the data is needed to split for latter training.\n",
        "Also, I concatenate the mean value of each patient at this stage.\n",
        "'''\n",
        "\n",
        "cur = 0\n",
        "test_HMM = np.zeros((1,2*c_state))\n",
        "train_HMM = np.zeros((1,2*c_state))\n",
        "train_train_HMM = np.zeros((1,2*c_state))\n",
        "train_test_HMM = np.zeros((1,2*c_state))\n",
        "for n in name:\n",
        "  l_train = len(memo[int(n)]['train'])\n",
        "  l_test = len(memo[int(n)]['test'])\n",
        "\n",
        "  all_HMM[cur:l_train+l_test+cur,c_state:] = np.tile(all_HMM[cur:l_train+l_test+cur,:c_state].mean(axis = 0),(l_train+l_test,1))\n",
        "  train_HMM = np.concatenate((train_HMM,all_HMM[cur:l_train+cur]))\n",
        "  # s = np.arange(l_train)\n",
        "  # np.random.shuffle(s)\n",
        "  # m = l_train//4\n",
        "  # train_train_HMM = np.concatenate((train_train_HMM,all_HMM[cur:l_train+cur][m:]))\n",
        "  # train_test_HMM = np.concatenate((train_test_HMM,all_HMM[cur:l_train+cur][:m]))\n",
        "  \n",
        "  cur += l_train\n",
        "  test_HMM = np.concatenate((test_HMM,all_HMM[cur:cur+l_test]))\n",
        "  cur += l_test"
      ],
      "execution_count": 0,
      "outputs": []
    },
    {
      "cell_type": "code",
      "metadata": {
        "id": "yXKFIuT2xHJ4",
        "colab_type": "code",
        "outputId": "91327108-da8e-4c5b-bbf2-d6908f0b343a",
        "colab": {
          "base_uri": "https://localhost:8080/",
          "height": 34
        }
      },
      "source": [
        "train_HMM.shape"
      ],
      "execution_count": 0,
      "outputs": [
        {
          "output_type": "execute_result",
          "data": {
            "text/plain": [
              "(1859, 100)"
            ]
          },
          "metadata": {
            "tags": []
          },
          "execution_count": 8
        }
      ]
    },
    {
      "cell_type": "code",
      "metadata": {
        "id": "Vyp3GAn4xJuT",
        "colab_type": "code",
        "outputId": "3f0eebd2-f6b7-4da2-f55f-41e352d1b338",
        "colab": {
          "base_uri": "https://localhost:8080/",
          "height": 34
        }
      },
      "source": [
        "test_HMM.shape"
      ],
      "execution_count": 0,
      "outputs": [
        {
          "output_type": "execute_result",
          "data": {
            "text/plain": [
              "(619, 100)"
            ]
          },
          "metadata": {
            "tags": []
          },
          "execution_count": 9
        }
      ]
    },
    {
      "cell_type": "code",
      "metadata": {
        "id": "G3FlGK_4xMRq",
        "colab_type": "code",
        "colab": {}
      },
      "source": [
        "'''\n",
        "Save the train_HMM and test_HMM for next step.\n",
        "'''\n",
        "\n",
        "with open(\"train_Total_HMM_1.pkl\", \"wb\") as file: \n",
        "  pickle.dump(train_HMM[1:],file)\n",
        "\n",
        "with open(\"test_Total_HMM_1.pkl\", \"wb\") as file: \n",
        "  pickle.dump(test_HMM[1:],file)"
      ],
      "execution_count": 0,
      "outputs": []
    }
  ]
}